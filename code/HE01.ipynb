{
 "cells": [
  {
   "cell_type": "markdown",
   "metadata": {},
   "source": [
    "# Homomorphic Encryption\n",
    "## Example for ring-learning-with-errors\n",
    "Based on \n",
    "Fan, Junfeng, and Frederik Vercauteren. ‘Somewhat Practical Fully Homomorphic Encryption’, 2012. https://eprint.iacr.org/2012/144 ."
   ]
  },
  {
   "cell_type": "code",
   "execution_count": 324,
   "metadata": {},
   "outputs": [],
   "source": [
    "import numpy as np\n",
    "from numpy.polynomial import Polynomial as poly"
   ]
  },
  {
   "cell_type": "code",
   "execution_count": 325,
   "metadata": {},
   "outputs": [],
   "source": [
    "\"\"\"\n",
    "Declaration of addition and multiplication of two polynomials x_1 and x_2 modulo the polynomial modP\n",
    "on the residual class ring Z/modS*Z\n",
    "\"\"\"\n",
    "\n",
    "def polyaddMod(x_1, x_2, modS, modP):\n",
    "    return poly(((x_1 + x_2).coef % modS)) % modP\n",
    "\n",
    "\n",
    "def polymulMod(x_1, x_2, modS, modP):\n",
    "    return poly((poly((x_1 * x_2).coef % modS) % modP).coef % modS)"
   ]
  },
  {
   "cell_type": "code",
   "execution_count": 326,
   "metadata": {},
   "outputs": [],
   "source": [
    "\"\"\"\n",
    "Generators of polynomes with random coefficients needed for the key generator\n",
    "\"\"\"\n",
    "\n",
    "def rnd_binary_coef(length):\n",
    "    return poly(np.random.randint(0, 2, length))\n",
    "\n",
    "def rnd_uniform_coef(length, modS):\n",
    "    return poly(np.random.randint(0, modS, length))\n",
    "\n",
    "def rnd_normal_coef(length):\n",
    "    return poly(np.random.normal(0, 2, length))"
   ]
  },
  {
   "cell_type": "code",
   "execution_count": 327,
   "metadata": {},
   "outputs": [],
   "source": [
    "\"\"\"\n",
    "The key generator returning the public and secret key\n",
    "\"\"\"\n",
    "def keyGenerator(length, modS, modP):\n",
    "    sk = rnd_binary_coef(length) #secret key\n",
    "    a  = rnd_uniform_coef(length, modS) #first part of the public key\n",
    "    e  = rnd_normal_coef(length) #noise\n",
    "    b  = - polyaddMod(polymulMod(a, sk, ms, mp), e, ms, mp) #second part of the public key\n",
    "    return (a,b), sk #public and secret key"
   ]
  },
  {
   "cell_type": "code",
   "execution_count": 381,
   "metadata": {},
   "outputs": [],
   "source": [
    "\"\"\"\n",
    "Encryption function, adding noise e1 and e2\n",
    "\"\"\"\n",
    "\n",
    "def enCrypt(pt, pk, q, t, modP):\n",
    "    l = pk[0].coef.size #key length\n",
    "    m = poly(pt % t)\n",
    "    d = int(q / t) #delta to regulate the \n",
    "    e1 = rnd_normal_coef(l)\n",
    "    e2 = rnd_normal_coef(l)\n",
    "    u = rnd_binary_coef(l)\n",
    "    \n",
    "    ct0 = polyaddMod(polyaddMod(polymulMod(pk[0], u, q, mp), e1, q, modP), d * m, q, modP)\n",
    "    ct1 = polyaddMod(polymulMod(pk[1], u, q, mp), e2, q, modP)\n",
    "    \n",
    "    return (ct0, ct1) #the cypher text consists of two polynomials"
   ]
  },
  {
   "cell_type": "code",
   "execution_count": 400,
   "metadata": {},
   "outputs": [],
   "source": [
    "\"\"\"\n",
    "Decryption function, retrieving the plain text by applying the secret key as the base of the vector space to filtre out the noise terms\n",
    "\"\"\"\n",
    "def deCrypt(ct, sk, q, t, modP):\n",
    "    dpt = polyaddMod(polymulMod(ct[1], sk, q, mp), ct[0], q, modP)\n",
    "    \n",
    "    dt = (dpt.coef * t/q) % t\n",
    "    return round(dt[0],0)"
   ]
  },
  {
   "cell_type": "code",
   "execution_count": 436,
   "metadata": {},
   "outputs": [
    {
     "data": {
      "text/plain": [
       "6.0"
      ]
     },
     "execution_count": 436,
     "metadata": {},
     "output_type": "execute_result"
    }
   ],
   "source": [
    "ms = 11  #the modulus defining the integer residual class Z/{ms}\n",
    "mp = poly([1,0,0,0,1]) #the modulus defining the polynomial residual class Z(ms)/{mp}\n",
    "\n",
    "k = keyGenerator(20,ms,mp) #generating the key\n",
    "\n",
    "pk = k[0] #public key\n",
    "sk = k[1] #secret key\n",
    "\n",
    "q = 7919 #q and t defining the noise via the delta d\n",
    "t = 17\n",
    "\n",
    "pt1 = 2 #plain text 1\n",
    "pt2 = 4 #plain text 2\n",
    "\n",
    "ct1 = enCrypt(pt1, pk, q, t, mp) #cypher text of plain text 1 using only the public key\n",
    "ct2 = enCrypt(pt2, pk, q, t, mp) #cypher text of plain text 2\n",
    "\n",
    "ct = np.polyadd(ct1,ct2) #adding the two cypher texts\n",
    "\n",
    "decrypted = deCrypt(ct, sk, q, t, mp) #decrypting the sum using the secret key\n",
    "decrypted"
   ]
  },
  {
   "cell_type": "code",
   "execution_count": null,
   "metadata": {},
   "outputs": [],
   "source": []
  }
 ],
 "metadata": {
  "kernelspec": {
   "display_name": "Python 3",
   "language": "python",
   "name": "python3"
  },
  "language_info": {
   "codemirror_mode": {
    "name": "ipython",
    "version": 3
   },
   "file_extension": ".py",
   "mimetype": "text/x-python",
   "name": "python",
   "nbconvert_exporter": "python",
   "pygments_lexer": "ipython3",
   "version": "3.7.4"
  }
 },
 "nbformat": 4,
 "nbformat_minor": 2
}
